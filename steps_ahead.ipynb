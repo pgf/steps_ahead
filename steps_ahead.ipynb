{
 "cells": [
  {
   "cell_type": "code",
   "execution_count": null,
   "id": "3d1cfa60",
   "metadata": {},
   "outputs": [],
   "source": [
    "%%capture\n",
    "!pip install ultraplot"
   ]
  },
  {
   "cell_type": "code",
   "execution_count": null,
   "id": "f8adadc7-4c6b-49c1-b963-69ea5d310d40",
   "metadata": {},
   "outputs": [],
   "source": [
    "import numpy as np\n",
    "import ultraplot as uplt"
   ]
  },
  {
   "cell_type": "code",
   "execution_count": null,
   "id": "c45fcb06-777d-4a9a-9e10-e925fd0584ba",
   "metadata": {},
   "outputs": [],
   "source": [
    "lon=np.arange(-90., 90.1, 0.5)\n",
    "lat=np.arange(-50., 80.1, 0.5)\n",
    "lon2d,lat2d=np.meshgrid(lon, lat)\n",
    "data=np.sin(10*np.deg2rad(lon2d))+np.cos(8*np.deg2rad(lat2d))*np.cos(np.deg2rad(lon2d))\n",
    "del lon2d, lat2d"
   ]
  },
  {
   "cell_type": "code",
   "execution_count": null,
   "id": "3f1446c7-39be-40c3-880c-84537ea705ad",
   "metadata": {},
   "outputs": [],
   "source": [
    "fig,ax=uplt.subplot(figwidth=8, proj='eck3')\n",
    "ch=ax.contourf(lon, lat, data)\n",
    "ax.format(coast=True, reso='med', coastlinewidth=0.4,\n",
    "          grid=True, gridlinestyle='dashed', gridcolor='gray', gridalpha=0.9, gridwidth=0.6,\n",
    "          labels=['left','bottom'], labelsize='med',\n",
    "          title='Example Geographic Plot', titlepad=3, titlesize='large')\n",
    "ax.colorbar(ch, loc='r', width=0.12, edges=True)"
   ]
  },
  {
   "cell_type": "code",
   "execution_count": null,
   "id": "a9a86614-b89a-4f09-8544-dff6e10954c2",
   "metadata": {},
   "outputs": [],
   "source": []
  }
 ],
 "metadata": {
  "kernelspec": {
   "display_name": "Python 3 (ipykernel)",
   "language": "python",
   "name": "python3"
  },
  "language_info": {
   "codemirror_mode": {
    "name": "ipython",
    "version": 3
   },
   "file_extension": ".py",
   "mimetype": "text/x-python",
   "name": "python",
   "nbconvert_exporter": "python",
   "pygments_lexer": "ipython3",
   "version": "3.13.1"
  }
 },
 "nbformat": 4,
 "nbformat_minor": 5
}
